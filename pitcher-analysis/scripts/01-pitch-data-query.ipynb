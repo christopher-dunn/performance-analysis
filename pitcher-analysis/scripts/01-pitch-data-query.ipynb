{
 "cells": [
  {
   "cell_type": "code",
   "execution_count": 5,
   "id": "4f29db81-23dc-4446-aeaa-b1093e336226",
   "metadata": {},
   "outputs": [
    {
     "name": "stdout",
     "output_type": "stream",
     "text": [
      "Gathering Player Data\n",
      "Gathering Player Data\n",
      "Gathering Player Data\n",
      "Gathering Player Data\n"
     ]
    }
   ],
   "source": [
    "\"\"\"\n",
    "Pull year-by-year Statcast pitching data for Shohei Ohtani using the pybaseball API\n",
    "Covers seasons in which he pitched (2018, 2021–2023), skipping injured years\n",
    "Appends all years into a single DataFrame and exports it as a CSV for downstream processing and Power BI visualization\n",
    "\"\"\"\n",
    "\n",
    "# Import pybaseball for Statcast API access, pandas for data handling\n",
    "from pybaseball import statcast_pitcher\n",
    "import pandas as pd\n",
    "\n",
    "# Ohtani's MLBAM ID\n",
    "ohtani_id = 660271\n",
    "\n",
    "# Define only the seasons where he actually pitched (skip 2019 & 2020 due to injury)\n",
    "years = [2018, 2021, 2022, 2023]\n",
    "\n",
    "# Pull and append all yearly data into one list of DataFrames\n",
    "dfs = []\n",
    "for year in years:\n",
    "    # Statcast season runs roughly Mar–Oct\n",
    "    data = statcast_pitcher(f'{year}-03-01', f'{year}-10-01', ohtani_id)\n",
    "    data['year'] = year  # Add a clean year column since game_date is messy for slicing\n",
    "    dfs.append(data)\n",
    "\n",
    "# Combine all years into a single DataFrame\n",
    "ohtani_pitching = pd.concat(dfs, ignore_index=True)\n",
    "\n",
    "# Save full raw export to local CSV (keep this version for archival or future reprocessing)\n",
    "ohtani_pitching.to_csv(\"ohtani_pitching_2018_2023.csv\", index=False)"
   ]
  },
  {
   "cell_type": "code",
   "execution_count": 8,
   "id": "fe829f34-d805-4b2f-986b-d80b1f839596",
   "metadata": {},
   "outputs": [],
   "source": [
    "\"\"\"\n",
    "Load the full pitching dataset into DuckDB and run a SQL query to isolate only the relevant columns\n",
    "Extracts year, pitch type, velocity, spin rate, zone, and outcomes for each pitch\n",
    "Exports a cleaned CSV for direct use in Tableau for YoY pitch type analysis\n",
    "\"\"\"\n",
    "\n",
    "import duckdb\n",
    "\n",
    "# Load your CSV file into a DuckDB virtual table\n",
    "con = duckdb.connect()\n",
    "\n",
    "# Run SQL query to keep only the relevant columns\n",
    "result = con.execute(\"\"\"\n",
    "    SELECT\n",
    "        year AS \"Year\",\n",
    "        pitch_name AS \"Pitch Type\",\n",
    "        release_speed AS \"Velocity\",\n",
    "        description AS \"Pitch Outcome\",\n",
    "        zone AS \"Zone\",\n",
    "        release_spin_rate AS \"Spin Rate\",\n",
    "        events AS \"Plate Appearance Outcome\"\n",
    "    FROM 'ohtani_pitching_2018_2023.csv'\n",
    "\"\"\").fetchdf()\n",
    "\n",
    "result.to_csv(\"ohtani_pitching_cleaned.csv\", index=False)"
   ]
  },
  {
   "cell_type": "code",
   "execution_count": null,
   "id": "8890b7e3-77d1-42c5-8584-a07563d9e243",
   "metadata": {},
   "outputs": [],
   "source": []
  }
 ],
 "metadata": {
  "kernelspec": {
   "display_name": "Python 3 (ipykernel)",
   "language": "python",
   "name": "python3"
  },
  "language_info": {
   "codemirror_mode": {
    "name": "ipython",
    "version": 3
   },
   "file_extension": ".py",
   "mimetype": "text/x-python",
   "name": "python",
   "nbconvert_exporter": "python",
   "pygments_lexer": "ipython3",
   "version": "3.10.5"
  }
 },
 "nbformat": 4,
 "nbformat_minor": 5
}
